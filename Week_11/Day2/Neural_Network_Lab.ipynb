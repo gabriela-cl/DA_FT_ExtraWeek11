{
 "cells": [
  {
   "cell_type": "markdown",
   "id": "e23f57d7",
   "metadata": {},
   "source": [
    "# Hands-On Exercise: Training a Neural Network to Classify Fashion Items Using PyTorch and the Fashion-MNIST Dataset\n",
    "\n",
    "## Objective:\n",
    "In this exercise, you will train a neural network to classify images of clothing items from the Fashion-MNIST dataset using PyTorch. The goal is to learn how to preprocess data, build a neural network for image classification, train the model, and evaluate its performance. You will apply many of the concepts we saw during the previous class on Neural Networks using the MNIST dataset.\n",
    "\n",
    "Steps from 1 to 3 are done for you, so you can directly start on building the model in step 4.\n"
   ]
  },
  {
   "cell_type": "markdown",
   "id": "d57ce9e9",
   "metadata": {},
   "source": [
    "## Step 1: Setup and Installations\n",
    "**Objective**: Ensure that PyTorch and other required libraries are installed.\n",
    "\n",
    "**Instructions**: Install the necessary libraries using pip if they are not already installed.\n"
   ]
  },
  {
   "cell_type": "code",
   "execution_count": 4,
   "id": "25b41abd",
   "metadata": {},
   "outputs": [
    {
     "name": "stdout",
     "output_type": "stream",
     "text": [
      "Collecting torch\n",
      "  Downloading torch-2.4.0-cp311-none-macosx_11_0_arm64.whl.metadata (26 kB)\n",
      "Collecting torchvision\n",
      "  Downloading torchvision-0.19.0-cp311-cp311-macosx_11_0_arm64.whl.metadata (6.0 kB)\n",
      "Requirement already satisfied: matplotlib in /opt/anaconda3/lib/python3.11/site-packages (3.8.0)\n",
      "Requirement already satisfied: filelock in /opt/anaconda3/lib/python3.11/site-packages (from torch) (3.13.1)\n",
      "Requirement already satisfied: typing-extensions>=4.8.0 in /opt/anaconda3/lib/python3.11/site-packages (from torch) (4.9.0)\n",
      "Requirement already satisfied: sympy in /opt/anaconda3/lib/python3.11/site-packages (from torch) (1.12)\n",
      "Requirement already satisfied: networkx in /opt/anaconda3/lib/python3.11/site-packages (from torch) (3.1)\n",
      "Requirement already satisfied: jinja2 in /opt/anaconda3/lib/python3.11/site-packages (from torch) (3.1.3)\n",
      "Requirement already satisfied: fsspec in /opt/anaconda3/lib/python3.11/site-packages (from torch) (2023.10.0)\n",
      "Requirement already satisfied: numpy in /opt/anaconda3/lib/python3.11/site-packages (from torchvision) (1.26.4)\n",
      "Requirement already satisfied: pillow!=8.3.*,>=5.3.0 in /opt/anaconda3/lib/python3.11/site-packages (from torchvision) (10.2.0)\n",
      "Requirement already satisfied: contourpy>=1.0.1 in /opt/anaconda3/lib/python3.11/site-packages (from matplotlib) (1.2.0)\n",
      "Requirement already satisfied: cycler>=0.10 in /opt/anaconda3/lib/python3.11/site-packages (from matplotlib) (0.11.0)\n",
      "Requirement already satisfied: fonttools>=4.22.0 in /opt/anaconda3/lib/python3.11/site-packages (from matplotlib) (4.25.0)\n",
      "Requirement already satisfied: kiwisolver>=1.0.1 in /opt/anaconda3/lib/python3.11/site-packages (from matplotlib) (1.4.4)\n",
      "Requirement already satisfied: packaging>=20.0 in /opt/anaconda3/lib/python3.11/site-packages (from matplotlib) (23.1)\n",
      "Requirement already satisfied: pyparsing>=2.3.1 in /opt/anaconda3/lib/python3.11/site-packages (from matplotlib) (3.0.9)\n",
      "Requirement already satisfied: python-dateutil>=2.7 in /opt/anaconda3/lib/python3.11/site-packages (from matplotlib) (2.8.2)\n",
      "Requirement already satisfied: six>=1.5 in /opt/anaconda3/lib/python3.11/site-packages (from python-dateutil>=2.7->matplotlib) (1.16.0)\n",
      "Requirement already satisfied: MarkupSafe>=2.0 in /opt/anaconda3/lib/python3.11/site-packages (from jinja2->torch) (2.1.3)\n",
      "Requirement already satisfied: mpmath>=0.19 in /opt/anaconda3/lib/python3.11/site-packages (from sympy->torch) (1.3.0)\n",
      "Downloading torch-2.4.0-cp311-none-macosx_11_0_arm64.whl (62.1 MB)\n",
      "\u001b[2K   \u001b[90m━━━━━━━━━━━━━━━━━━━━━━━━━━━━━━━━━━━━━━━━\u001b[0m \u001b[32m62.1/62.1 MB\u001b[0m \u001b[31m12.6 MB/s\u001b[0m eta \u001b[36m0:00:00\u001b[0m00:01\u001b[0m00:01\u001b[0m\n",
      "\u001b[?25hDownloading torchvision-0.19.0-cp311-cp311-macosx_11_0_arm64.whl (1.7 MB)\n",
      "\u001b[2K   \u001b[90m━━━━━━━━━━━━━━━━━━━━━━━━━━━━━━━━━━━━━━━━\u001b[0m \u001b[32m1.7/1.7 MB\u001b[0m \u001b[31m10.9 MB/s\u001b[0m eta \u001b[36m0:00:00\u001b[0ma \u001b[36m0:00:01\u001b[0m\n",
      "\u001b[?25hInstalling collected packages: torch, torchvision\n",
      "Successfully installed torch-2.4.0 torchvision-0.19.0\n"
     ]
    }
   ],
   "source": [
    "!pip install torch torchvision matplotlib\n"
   ]
  },
  {
   "cell_type": "markdown",
   "id": "e1c99e78",
   "metadata": {},
   "source": [
    "## Step 2: Import Necessary Libraries\n",
    "**Objective**: Import the libraries needed for loading the dataset, building the model, training, and visualization.\n"
   ]
  },
  {
   "cell_type": "code",
   "execution_count": 5,
   "id": "882e37a3",
   "metadata": {},
   "outputs": [],
   "source": [
    "import torch\n",
    "import torch.nn as nn\n",
    "import torch.optim as optim\n",
    "import torch.nn.functional as F\n",
    "from torchvision import datasets, transforms\n",
    "import matplotlib.pyplot as plt\n"
   ]
  },
  {
   "cell_type": "markdown",
   "id": "7da42c34",
   "metadata": {},
   "source": [
    "## Step 3: Load and Explore the Fashion-MNIST Dataset\n",
    "**Objective**: Load the Fashion-MNIST dataset and explore its structure.\n",
    "\n",
    "**Instructions**:\n",
    "- Use `torchvision.datasets` to load the dataset.\n",
    "- Apply necessary transformations, such as converting images to tensors and normalizing them.\n"
   ]
  },
  {
   "cell_type": "code",
   "execution_count": 9,
   "id": "1730b48c",
   "metadata": {},
   "outputs": [
    {
     "name": "stdout",
     "output_type": "stream",
     "text": [
      "Number of training samples: 60000\n",
      "Number of test samples: 10000\n"
     ]
    },
    {
     "data": {
      "image/png": "[encoded data removed]",
      "text/plain": [
       "<Figure size 1000x1000 with 6 Axes>"
      ]
     },
     "metadata": {},
     "output_type": "display_data"
    }
   ],
   "source": [
    "transform = transforms.Compose([\n",
    "    transforms.ToTensor(),\n",
    "    transforms.Normalize((0.5,), (0.5,))\n",
    "])\n",
    "\n",
    "# Increase the batch size for faster training\n",
    "train_dataset = datasets.FashionMNIST(root='./data', train=True, download=True, transform=transform)\n",
    "test_dataset = datasets.FashionMNIST(root='./data', train=False, download=True, transform=transform)\n",
    "\n",
    "train_loader = torch.utils.data.DataLoader(train_dataset, batch_size=256, shuffle=True)\n",
    "test_loader = torch.utils.data.DataLoader(test_dataset, batch_size=1000, shuffle=False)\n",
    "\n",
    "# Explore the dataset\n",
    "print(f\"Number of training samples: {len(train_dataset)}\")\n",
    "print(f\"Number of test samples: {len(test_dataset)}\")\n",
    "\n",
    "# Visualize some training data\n",
    "examples = enumerate(train_loader)\n",
    "batch_idx, (example_data, example_targets) = next(examples)\n",
    "plt.figure(figsize=(10,10))\n",
    "for i in range(6):\n",
    "    plt.subplot(2,3,i+1)\n",
    "    plt.imshow(example_data[i][0], cmap='gray')\n",
    "    plt.title(f\"Label: {example_targets[i]}\")\n",
    "    plt.axis('off')\n",
    "plt.show()\n",
    "\n"
   ]
  },
  {
   "cell_type": "markdown",
   "id": "d7095c4c",
   "metadata": {},
   "source": [
    "## Step 4: Build the Neural Network\n",
    "**Objective**: Define a simple Convolutional Neural Network (CNN) for image classification.\n",
    "\n",
    "**Instructions**:\n",
    "- Use PyTorch’s `nn.Module` to create the model.\n",
    "- Include convolutional layers, pooling layers, and fully connected layers.\n"
   ]
  },
  {
   "cell_type": "code",
   "execution_count": 13,
   "id": "13a8b4da",
   "metadata": {},
   "outputs": [],
   "source": [
    "# Your answer here\n",
    "\n"
   ]
  },
  {
   "cell_type": "markdown",
   "id": "8df5aa11",
   "metadata": {},
   "source": [
    "## Step 5: Define the Loss Function and Optimizer\n",
    "**Objective**: Set up the loss function and optimizer for training.\n",
    "\n",
    "**Instructions**:\n",
    "- Use Cross-Entropy Loss for multi-class classification.\n",
    "- Use an optimizer like Adam to update the model weights.\n"
   ]
  },
  {
   "cell_type": "code",
   "execution_count": 14,
   "id": "e3f3fc17",
   "metadata": {},
   "outputs": [],
   "source": [
    "# Your answer here\n"
   ]
  },
  {
   "cell_type": "markdown",
   "id": "216f70e7",
   "metadata": {},
   "source": [
    "## Step 6: Train the Model\n",
    "**Objective**: Train the neural network on the training data.\n",
    "\n",
    "**Instructions**:\n",
    "- Iterate through the training data for a set number of epochs (5)\n",
    "- For each epoch, perform forward and backward passes, and update the model weights.\n"
   ]
  },
  {
   "cell_type": "code",
   "execution_count": 15,
   "id": "ebff2095",
   "metadata": {},
   "outputs": [],
   "source": [
    "# Your answer here\n"
   ]
  },
  {
   "cell_type": "markdown",
   "id": "3e5f7a0a",
   "metadata": {},
   "source": [
    "## Step 7: Evaluate the Model\n",
    "**Objective**: Evaluate the model's performance on the test dataset.\n",
    "\n",
    "**Instructions**:\n",
    "- After training, evaluate the model's accuracy on the test data.\n",
    "- Calculate the accuracy by comparing the predicted labels with the true labels.\n"
   ]
  },
  {
   "cell_type": "code",
   "execution_count": 16,
   "id": "f4a0e369",
   "metadata": {},
   "outputs": [],
   "source": [
    "# Your answer here\n"
   ]
  },
  {
   "cell_type": "markdown",
   "id": "250127a8",
   "metadata": {},
   "source": [
    "## Step 8: Visualize the Results\n",
    "**Objective**: Visualize some of the model's predictions on the test data.\n",
    "\n",
    "**Instructions**:\n",
    "- Show images from the test dataset along with their predicted labels.\n"
   ]
  },
  {
   "cell_type": "code",
   "execution_count": 17,
   "id": "5b634c24",
   "metadata": {},
   "outputs": [],
   "source": [
    "# Your answer here\n"
   ]
  },
  {
   "cell_type": "markdown",
   "id": "5a4737a6",
   "metadata": {},
   "source": [
    "## Step 9: Analyze the Results\n",
    "**Objective**: Understand the model's performance.\n",
    "\n",
    "**Instructions**:\n",
    "- Discuss how well the model performed in classifying the images.\n",
    "- Consider whether the model has underfitted or overfitted the data.\n",
    "- Discuss possible ways to improve the model, such as tuning hyperparameters, adding regularization, or using a more complex architecture.\n"
   ]
  },
  {
   "cell_type": "markdown",
   "id": "ed807569",
   "metadata": {},
   "source": [
    "## Optional: Extend the Exercise\n",
    "**Objective**: Encourage further exploration.\n",
    "\n",
    "**Instructions**:\n",
    "- Experiment with different neural network architectures (e.g., more layers, dropout, batch normalization).\n",
    "- Try different learning rates or optimizers.\n",
    "- Use data augmentation to improve the model's robustness.\n"
   ]
  },
  {
   "cell_type": "markdown",
   "id": "a378b6c2",
   "metadata": {},
   "source": [
    "## Wrap-Up\n",
    "- Discuss what you learned about training neural networks for image classification tasks, and the importance of choosing the right model architecture and hyperparameters.\n",
    "- Submit your completed notebook along with a short report on your findings.\n"
   ]
  },
  {
   "cell_type": "code",
   "execution_count": null,
   "id": "d6fcac78",
   "metadata": {},
   "outputs": [],
   "source": []
  }
 ],
 "metadata": {
  "kernelspec": {
   "display_name": "Python 3 (ipykernel)",
   "language": "python",
   "name": "python3"
  },
  "language_info": {
   "codemirror_mode": {
    "name": "ipython",
    "version": 3
   },
   "file_extension": ".py",
   "mimetype": "text/x-python",
   "name": "python",
   "nbconvert_exporter": "python",
   "pygments_lexer": "ipython3",
   "version": "3.11.9"
  }
 },
 "nbformat": 4,
 "nbformat_minor": 5
}
