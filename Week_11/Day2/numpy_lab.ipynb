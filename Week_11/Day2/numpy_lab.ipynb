{
 "cells": [
  {
   "cell_type": "markdown",
   "id": "c6fc5b12-c833-44fb-9bb3-157c45f95ab2",
   "metadata": {},
   "source": [
    "# numpy exercises\n",
    "\n",
    "#### 1. Import the numpy package under the name `np` (★☆☆)\n",
    "`hint: import … as`\n",
    "\n",
    "#### 2. Create a null vector of size 10 (★☆☆)\n",
    "`hint: np.zeros`\n",
    "\n",
    "#### 3. Create a null vector of size 10 but the fifth value which is 1 (★☆☆)\n",
    "`hint: array[4]`\n",
    "\n",
    "#### 4. Create a vector with values ranging from 10 to 49 (★☆☆)\n",
    "`hint: arange`\n",
    "\n",
    "#### 5. Create a 3x3 matrix with values ranging from 0 to 8 (★☆☆)\n",
    "`hint: reshape`\n",
    "\n",
    "#### 6. Find indices of non-zero elements from [1,2,0,0,4,0] (★☆☆)\n",
    "`hint: np.nonzero`\n",
    "\n",
    "#### 7. Create a 3x3 identity matrix (★☆☆)\n",
    "`hint: np.eye`\n",
    "\n",
    "#### 8. Create a 3x3x3 array with random values (★☆☆)\n",
    "`hint: np.random.random`\n",
    "\n",
    "#### 9. Create a 10x10 array with random values and find the minimum and maximum values (★☆☆)\n",
    "`hint: min, max`\n",
    "\n",
    "#### 10. Create a random vector of size 30 and find the mean value (★☆☆)\n",
    "`hint: mean`\n",
    "\n",
    "#### 11. Create a 5x5 matrix with values 1,2,3,4 just below the diagonal (★☆☆)\n",
    "`hint: np.diag`\n",
    "\n",
    "#### 12. Normalize a 5x5 random matrix (★☆☆)\n",
    "`hint: (x -mean)/std`\n",
    "\n",
    "#### 13. How to find common values between two arrays? (★☆☆)\n",
    "`hint: np.intersect1d`\n",
    "\n",
    "#### 14. Create a random vector of size 10 and sort it (★★☆)\n",
    "`hint: sort`\n",
    "\n",
    "#### 15. Create random vector of size 10 and replace the maximum value by 0 (★★☆)\n",
    "`hint: argmax`\n",
    "\n",
    "#### 16. Subtract the mean of each row of a matrix (★★☆)\n",
    "`hint: mean(axis=,keepdims=)`\n",
    "\n",
    "#### 17. How to get the n largest values of an array (★★★)\n",
    "`Z = np.arange(10000)\n",
    "np.random.shuffle(Z)\n",
    "n = 5\n",
    "hint: np.argsort | np.argpartition`\n",
    "\n",
    "#### 18. Create a random 5*3 matrix and replace items that are larger than 4 by their squares ( Example:  6 --> 36) \n",
    "`hint: np.where`"
   ]
  },
  {
   "cell_type": "code",
   "execution_count": 1,
   "id": "eb98846a-683f-4e60-a63e-62973cece57a",
   "metadata": {},
   "outputs": [],
   "source": [
    "import numpy as np"
   ]
  },
  {
   "cell_type": "code",
   "execution_count": 2,
   "id": "096a1819-ed41-43be-aa5a-d699e8ed3ef0",
   "metadata": {},
   "outputs": [
    {
     "name": "stdout",
     "output_type": "stream",
     "text": [
      "[0. 0. 0. 0. 0. 0. 0. 0. 0. 0.]\n"
     ]
    }
   ],
   "source": [
    "a = np.zeros((10))\n",
    "print(a)"
   ]
  },
  {
   "cell_type": "code",
   "execution_count": 3,
   "id": "b51318ba-e507-442a-a3bb-66a98529895d",
   "metadata": {},
   "outputs": [
    {
     "data": {
      "text/plain": [
       "array([0., 0., 0., 0., 1., 0., 0., 0., 0., 0.])"
      ]
     },
     "execution_count": 3,
     "metadata": {},
     "output_type": "execute_result"
    }
   ],
   "source": [
    "a[4] = 1\n",
    "a"
   ]
  },
  {
   "cell_type": "code",
   "execution_count": 6,
   "id": "05940e77-3c35-4d3e-97f3-f6db574614a2",
   "metadata": {},
   "outputs": [
    {
     "data": {
      "text/plain": [
       "array([10, 11, 12, 13, 14, 15, 16, 17, 18, 19, 20, 21, 22, 23, 24, 25, 26,\n",
       "       27, 28, 29, 30, 31, 32, 33, 34, 35, 36, 37, 38, 39, 40, 41, 42, 43,\n",
       "       44, 45, 46, 47, 48, 49])"
      ]
     },
     "execution_count": 6,
     "metadata": {},
     "output_type": "execute_result"
    }
   ],
   "source": [
    "arr = np.arange(10,50)\n",
    "arr"
   ]
  },
  {
   "cell_type": "code",
   "execution_count": 8,
   "id": "2be0ddae-8c62-4321-88f1-d3a2eb9ee26c",
   "metadata": {},
   "outputs": [
    {
     "data": {
      "text/plain": [
       "array([[0, 1, 2],\n",
       "       [3, 4, 5],\n",
       "       [6, 7, 8]])"
      ]
     },
     "execution_count": 8,
     "metadata": {},
     "output_type": "execute_result"
    }
   ],
   "source": [
    "grid = np.arange(0, 9).reshape((3, 3))\n",
    "grid"
   ]
  },
  {
   "cell_type": "code",
   "execution_count": 9,
   "id": "09c1257c-91b4-4ef5-8475-c36414fc818a",
   "metadata": {},
   "outputs": [
    {
     "data": {
      "text/plain": [
       "(array([0, 1, 4]),)"
      ]
     },
     "execution_count": 9,
     "metadata": {},
     "output_type": "execute_result"
    }
   ],
   "source": [
    "b = [1,2,0,0,4,0]\n",
    "np.nonzero(b)"
   ]
  },
  {
   "cell_type": "code",
   "execution_count": 10,
   "id": "2e7e2885-7b0f-44d2-a17b-d71c1cac6937",
   "metadata": {},
   "outputs": [
    {
     "name": "stdout",
     "output_type": "stream",
     "text": [
      "[[1. 0. 0.]\n",
      " [0. 1. 0.]\n",
      " [0. 0. 1.]]\n"
     ]
    }
   ],
   "source": [
    "I = np.eye(3)\n",
    "print(I)"
   ]
  },
  {
   "cell_type": "code",
   "execution_count": 15,
   "id": "4da7a2a2-362f-4272-8492-f2764d71467d",
   "metadata": {},
   "outputs": [
    {
     "data": {
      "text/plain": [
       "array([[[0.88794757, 0.45077755, 0.66917662],\n",
       "        [0.58374509, 0.10499606, 0.54962518],\n",
       "        [0.76789468, 0.58749942, 0.89837644]],\n",
       "\n",
       "       [[0.79143596, 0.67865355, 0.77321429],\n",
       "        [0.50732041, 0.95072755, 0.57459719],\n",
       "        [0.39883863, 0.09540725, 0.44869609]],\n",
       "\n",
       "       [[0.05194958, 0.83736885, 0.16052622],\n",
       "        [0.92016117, 0.4087898 , 0.36869137],\n",
       "        [0.64909113, 0.76143683, 0.95702555]]])"
      ]
     },
     "execution_count": 15,
     "metadata": {},
     "output_type": "execute_result"
    }
   ],
   "source": [
    "np.random.random((3,3,3))"
   ]
  },
  {
   "cell_type": "code",
   "execution_count": 18,
   "id": "b117f6fb-63ff-45c8-a984-11dc44850be8",
   "metadata": {},
   "outputs": [
    {
     "data": {
      "text/plain": [
       "array([[0.83451985, 0.71378421, 0.04689267, 0.5357886 , 0.93739186,\n",
       "        0.59982717, 0.53187888, 0.59223827, 0.81370847, 0.31095696],\n",
       "       [0.37737066, 0.00772316, 0.57281161, 0.79231392, 0.54378724,\n",
       "        0.13353286, 0.21290849, 0.7380244 , 0.01031877, 0.04204482],\n",
       "       [0.11225371, 0.1453609 , 0.41691239, 0.77972407, 0.06765744,\n",
       "        0.00918862, 0.00481249, 0.37187193, 0.5649261 , 0.45884086],\n",
       "       [0.54284124, 0.87012684, 0.29173009, 0.91608947, 0.89016764,\n",
       "        0.3518348 , 0.89194056, 0.56968142, 0.11611603, 0.77441627],\n",
       "       [0.12681696, 0.22989448, 0.80348858, 0.218337  , 0.39110546,\n",
       "        0.89108478, 0.94838086, 0.46631097, 0.7961461 , 0.19096947],\n",
       "       [0.07757838, 0.12430225, 0.52509749, 0.36061416, 0.25331136,\n",
       "        0.34993541, 0.75326027, 0.63663751, 0.28175598, 0.50666221],\n",
       "       [0.77419083, 0.76130787, 0.86783094, 0.80361514, 0.86653188,\n",
       "        0.88277319, 0.35625844, 0.87744798, 0.14014274, 0.78105304],\n",
       "       [0.86786606, 0.04245171, 0.43208846, 0.13893281, 0.77446941,\n",
       "        0.82352959, 0.52106285, 0.54131541, 0.5981369 , 0.63831301],\n",
       "       [0.70910728, 0.30866932, 0.20527668, 0.64202811, 0.32636492,\n",
       "        0.31145398, 0.69512247, 0.49298026, 0.99109016, 0.26501805],\n",
       "       [0.77110699, 0.64938877, 0.42831868, 0.00594076, 0.25318555,\n",
       "        0.48572492, 0.13796831, 0.85274035, 0.75003747, 0.11895496]])"
      ]
     },
     "execution_count": 18,
     "metadata": {},
     "output_type": "execute_result"
    }
   ],
   "source": [
    "c = np.random.random((10,10))\n",
    "c"
   ]
  },
  {
   "cell_type": "code",
   "execution_count": 20,
   "id": "faadc472-d0c2-4ae1-9191-23088a990087",
   "metadata": {},
   "outputs": [
    {
     "data": {
      "text/plain": [
       "0.004812492279089087"
      ]
     },
     "execution_count": 20,
     "metadata": {},
     "output_type": "execute_result"
    }
   ],
   "source": [
    "c.min()"
   ]
  },
  {
   "cell_type": "code",
   "execution_count": 21,
   "id": "aef14798-774a-4d25-a10d-ec31ae12de27",
   "metadata": {},
   "outputs": [
    {
     "data": {
      "text/plain": [
       "0.9910901574651683"
      ]
     },
     "execution_count": 21,
     "metadata": {},
     "output_type": "execute_result"
    }
   ],
   "source": [
    "c.max()"
   ]
  },
  {
   "cell_type": "code",
   "execution_count": 23,
   "id": "5b0c59f7-f346-4fde-86d8-65e33ffd3dad",
   "metadata": {},
   "outputs": [
    {
     "data": {
      "text/plain": [
       "0.4980917108417508"
      ]
     },
     "execution_count": 23,
     "metadata": {},
     "output_type": "execute_result"
    }
   ],
   "source": [
    "np.random.random(30).mean()"
   ]
  },
  {
   "cell_type": "code",
   "execution_count": 24,
   "id": "1bc55fb3-1856-48bf-8873-d3d847645930",
   "metadata": {},
   "outputs": [
    {
     "data": {
      "text/plain": [
       "array([[0, 0, 0, 0, 0],\n",
       "       [1, 0, 0, 0, 0],\n",
       "       [0, 2, 0, 0, 0],\n",
       "       [0, 0, 3, 0, 0],\n",
       "       [0, 0, 0, 4, 0]])"
      ]
     },
     "execution_count": 24,
     "metadata": {},
     "output_type": "execute_result"
    }
   ],
   "source": [
    "matrix = np.diag([1, 2, 3, 4], k=-1)\n",
    "\n",
    "matrix"
   ]
  },
  {
   "cell_type": "code",
   "execution_count": 33,
   "id": "d9a9f6f0-16ad-49c0-9c43-941d8c978110",
   "metadata": {},
   "outputs": [],
   "source": [
    "d = np.random.rand(5, 5)\n",
    "normalized_d = (d - np.mean(d)) / np.std(d)"
   ]
  },
  {
   "cell_type": "code",
   "execution_count": 34,
   "id": "67ee4984-f2d2-4ba0-ad1b-29d5b12dc2eb",
   "metadata": {},
   "outputs": [
    {
     "name": "stdout",
     "output_type": "stream",
     "text": [
      "Original Matrix:\n",
      " [[0.49772065 0.31876898 0.23207967 0.08284389 0.84660478]\n",
      " [0.98900292 0.97476802 0.5930299  0.33834443 0.36350234]\n",
      " [0.86310319 0.9755328  0.20724172 0.88889124 0.67228452]\n",
      " [0.15578996 0.78234647 0.39262294 0.15166112 0.4869261 ]\n",
      " [0.68305847 0.71736869 0.33680761 0.60295488 0.39901075]]\n",
      "\n",
      "Normalized Matrix:\n",
      " [[-0.15860701 -0.79829581 -1.10817935 -1.64164437  1.08853015]\n",
      " [ 1.59755301  1.54666829  0.18208979 -0.72832051 -0.6383899 ]\n",
      " [ 1.14750611  1.54940211 -1.19696623  1.23968924  0.46539699]\n",
      " [-1.38088804  0.85882943 -0.53429406 -1.39564717 -0.19719369]\n",
      " [ 0.50391003  0.62655692 -0.73381409  0.21756808 -0.51145991]]\n"
     ]
    }
   ],
   "source": [
    "print(\"Original Matrix:\\n\", d)\n",
    "print(\"\\nNormalized Matrix:\\n\", normalized_d)"
   ]
  },
  {
   "cell_type": "code",
   "execution_count": 35,
   "id": "9b5604ae-3042-42d4-93ff-480ec2d7a579",
   "metadata": {},
   "outputs": [
    {
     "data": {
      "text/plain": [
       "array([20, 21, 22, 23, 24, 25, 26, 27, 28, 29])"
      ]
     },
     "execution_count": 35,
     "metadata": {},
     "output_type": "execute_result"
    }
   ],
   "source": [
    "arr2= np.arange(20,30)\n",
    "arr2"
   ]
  },
  {
   "cell_type": "code",
   "execution_count": 36,
   "id": "47eb68fb-3d15-4c66-a17b-f05e2a559f2c",
   "metadata": {},
   "outputs": [
    {
     "data": {
      "text/plain": [
       "array([10, 11, 12, 13, 14, 15, 16, 17, 18, 19, 20, 21, 22, 23, 24, 25, 26,\n",
       "       27, 28, 29, 30, 31, 32, 33, 34, 35, 36, 37, 38, 39, 40, 41, 42, 43,\n",
       "       44, 45, 46, 47, 48, 49])"
      ]
     },
     "execution_count": 36,
     "metadata": {},
     "output_type": "execute_result"
    }
   ],
   "source": [
    "arr"
   ]
  },
  {
   "cell_type": "code",
   "execution_count": 37,
   "id": "b7a3feb0-e45c-4898-8683-b786b2185a55",
   "metadata": {},
   "outputs": [
    {
     "data": {
      "text/plain": [
       "array([20, 21, 22, 23, 24, 25, 26, 27, 28, 29])"
      ]
     },
     "execution_count": 37,
     "metadata": {},
     "output_type": "execute_result"
    }
   ],
   "source": [
    "np.intersect1d(arr,arr2)"
   ]
  },
  {
   "cell_type": "code",
   "execution_count": 43,
   "id": "a95e1052-ec48-424f-b552-7278e37af2e1",
   "metadata": {},
   "outputs": [
    {
     "data": {
      "text/plain": [
       "array([0.1386615 , 0.54441076, 0.47715075, 0.06459993, 0.85552524,\n",
       "       0.48752353, 0.43666028, 0.93003733, 0.94201511, 0.77213731])"
      ]
     },
     "execution_count": 43,
     "metadata": {},
     "output_type": "execute_result"
    }
   ],
   "source": [
    "e = np.random.random(10)\n",
    "e"
   ]
  },
  {
   "cell_type": "code",
   "execution_count": 44,
   "id": "20bfb27c-441c-40f1-8d4c-ad22e6bc149b",
   "metadata": {},
   "outputs": [
    {
     "data": {
      "text/plain": [
       "array([0.06459993, 0.1386615 , 0.43666028, 0.47715075, 0.48752353,\n",
       "       0.54441076, 0.77213731, 0.85552524, 0.93003733, 0.94201511])"
      ]
     },
     "execution_count": 44,
     "metadata": {},
     "output_type": "execute_result"
    }
   ],
   "source": [
    "np.sort(e)"
   ]
  },
  {
   "cell_type": "code",
   "execution_count": 45,
   "id": "20df6efe-3bee-425a-b81d-bf23c6b4d68e",
   "metadata": {},
   "outputs": [
    {
     "data": {
      "text/plain": [
       "8"
      ]
     },
     "execution_count": 45,
     "metadata": {},
     "output_type": "execute_result"
    }
   ],
   "source": [
    "np.argmax(e)"
   ]
  },
  {
   "cell_type": "code",
   "execution_count": 46,
   "id": "a8caa6c9-5b58-4814-8a15-dd825e0fbcfc",
   "metadata": {},
   "outputs": [
    {
     "data": {
      "text/plain": [
       "array([0.1386615 , 0.54441076, 0.47715075, 0.06459993, 0.85552524,\n",
       "       0.48752353, 0.43666028, 0.93003733, 0.        , 0.77213731])"
      ]
     },
     "execution_count": 46,
     "metadata": {},
     "output_type": "execute_result"
    }
   ],
   "source": [
    "e[8]= 0\n",
    "e"
   ]
  },
  {
   "cell_type": "code",
   "execution_count": 51,
   "id": "140af834-51c8-41aa-aa27-063992ef8b19",
   "metadata": {},
   "outputs": [],
   "source": [
    "matrix2 = np.random.rand(6,4)\n",
    "row_means = np.mean(matrix2, axis=1, keepdims=True)\n",
    "\n",
    "# Subtract the mean of each row from the corresponding row\n",
    "normalized_matrix = matrix2 - row_means"
   ]
  },
  {
   "cell_type": "markdown",
   "id": "27e141a3-edcc-4431-bdac-00c1442bdf05",
   "metadata": {},
   "source": [
    "Using keepdims=True is particularly helpful when you want to perform element-wise operations between the original array and the result of the reduction. It ensures that the dimensions align properly for broadcasting."
   ]
  },
  {
   "cell_type": "code",
   "execution_count": 53,
   "id": "afdb17f3-2f00-40ee-8bb6-f42cfe668feb",
   "metadata": {},
   "outputs": [
    {
     "name": "stdout",
     "output_type": "stream",
     "text": [
      "Original Matrix:\n",
      " [[0.12027962 0.70769157 0.08079054 0.6562016 ]\n",
      " [0.86226612 0.14916656 0.98587466 0.85621425]\n",
      " [0.10688437 0.49612289 0.44076603 0.13976426]\n",
      " [0.55605171 0.72802384 0.13182714 0.57307757]\n",
      " [0.39330625 0.49391609 0.41950968 0.48444389]\n",
      " [0.08561187 0.73858578 0.28699153 0.68940565]]\n",
      "\n",
      "Row Means:\n",
      " [[0.39124083]\n",
      " [0.7133804 ]\n",
      " [0.29588439]\n",
      " [0.49724507]\n",
      " [0.44779398]\n",
      " [0.45014871]]\n",
      "\n",
      "Matrix after subtracting the mean of each row:\n",
      " [[-0.27096121  0.31645073 -0.31045029  0.26496077]\n",
      " [ 0.14888572 -0.56421384  0.27249426  0.14283386]\n",
      " [-0.18900002  0.2002385   0.14488165 -0.15612013]\n",
      " [ 0.05880664  0.23077877 -0.36541792  0.07583251]\n",
      " [-0.05448772  0.04612211 -0.0282843   0.03664991]\n",
      " [-0.36453684  0.28843708 -0.16315718  0.23925694]]\n"
     ]
    }
   ],
   "source": [
    "print(\"Original Matrix:\\n\", matrix2)\n",
    "print(\"\\nRow Means:\\n\", row_means)\n",
    "print(\"\\nMatrix after subtracting the mean of each row:\\n\", normalized_matrix)"
   ]
  },
  {
   "cell_type": "code",
   "execution_count": 55,
   "id": "8865d04f-ebe6-4375-a987-34dbd93735d3",
   "metadata": {},
   "outputs": [],
   "source": [
    "Z = np.arange(10000)\n",
    "np.random.shuffle(Z)\n",
    "n=5"
   ]
  },
  {
   "cell_type": "code",
   "execution_count": 59,
   "id": "0cdc5f60-7254-454f-b4b4-2df0104be595",
   "metadata": {},
   "outputs": [
    {
     "name": "stdout",
     "output_type": "stream",
     "text": [
      "The largest values are: [9995 9996 9997 9998 9999]\n"
     ]
    }
   ],
   "source": [
    "# Get the indices of the partitioned array\n",
    "partitioned_indices = np.argpartition(Z, -n)[-n:]\n",
    "\n",
    "# Sort the n largest values (since partitioning doesn't sort them)\n",
    "largest_values = np.sort(Z[partitioned_indices])\n",
    "\n",
    "print(\"The largest values are:\", largest_values)"
   ]
  },
  {
   "cell_type": "code",
   "execution_count": 60,
   "id": "4a64601d-eead-470a-9674-5ca18b5f27a0",
   "metadata": {},
   "outputs": [
    {
     "name": "stdout",
     "output_type": "stream",
     "text": [
      "Help on _ArrayFunctionDispatcher in module numpy:\n",
      "\n",
      "argpartition(a, kth, axis=-1, kind='introselect', order=None)\n",
      "    Perform an indirect partition along the given axis using the\n",
      "    algorithm specified by the `kind` keyword. It returns an array of\n",
      "    indices of the same shape as `a` that index data along the given\n",
      "    axis in partitioned order.\n",
      "    \n",
      "    .. versionadded:: 1.8.0\n",
      "    \n",
      "    Parameters\n",
      "    ----------\n",
      "    a : array_like\n",
      "        Array to sort.\n",
      "    kth : int or sequence of ints\n",
      "        Element index to partition by. The k-th element will be in its\n",
      "        final sorted position and all smaller elements will be moved\n",
      "        before it and all larger elements behind it. The order of all\n",
      "        elements in the partitions is undefined. If provided with a\n",
      "        sequence of k-th it will partition all of them into their sorted\n",
      "        position at once.\n",
      "    \n",
      "        .. deprecated:: 1.22.0\n",
      "            Passing booleans as index is deprecated.\n",
      "    axis : int or None, optional\n",
      "        Axis along which to sort. The default is -1 (the last axis). If\n",
      "        None, the flattened array is used.\n",
      "    kind : {'introselect'}, optional\n",
      "        Selection algorithm. Default is 'introselect'\n",
      "    order : str or list of str, optional\n",
      "        When `a` is an array with fields defined, this argument\n",
      "        specifies which fields to compare first, second, etc. A single\n",
      "        field can be specified as a string, and not all fields need be\n",
      "        specified, but unspecified fields will still be used, in the\n",
      "        order in which they come up in the dtype, to break ties.\n",
      "    \n",
      "    Returns\n",
      "    -------\n",
      "    index_array : ndarray, int\n",
      "        Array of indices that partition `a` along the specified axis.\n",
      "        If `a` is one-dimensional, ``a[index_array]`` yields a partitioned `a`.\n",
      "        More generally, ``np.take_along_axis(a, index_array, axis=axis)``\n",
      "        always yields the partitioned `a`, irrespective of dimensionality.\n",
      "    \n",
      "    See Also\n",
      "    --------\n",
      "    partition : Describes partition algorithms used.\n",
      "    ndarray.partition : Inplace partition.\n",
      "    argsort : Full indirect sort.\n",
      "    take_along_axis : Apply ``index_array`` from argpartition\n",
      "                      to an array as if by calling partition.\n",
      "    \n",
      "    Notes\n",
      "    -----\n",
      "    See `partition` for notes on the different selection algorithms.\n",
      "    \n",
      "    Examples\n",
      "    --------\n",
      "    One dimensional array:\n",
      "    \n",
      "    >>> x = np.array([3, 4, 2, 1])\n",
      "    >>> x[np.argpartition(x, 3)]\n",
      "    array([2, 1, 3, 4])\n",
      "    >>> x[np.argpartition(x, (1, 3))]\n",
      "    array([1, 2, 3, 4])\n",
      "    \n",
      "    >>> x = [3, 4, 2, 1]\n",
      "    >>> np.array(x)[np.argpartition(x, 3)]\n",
      "    array([2, 1, 3, 4])\n",
      "    \n",
      "    Multi-dimensional array:\n",
      "    \n",
      "    >>> x = np.array([[3, 4, 2], [1, 3, 1]])\n",
      "    >>> index_array = np.argpartition(x, kth=1, axis=-1)\n",
      "    >>> np.take_along_axis(x, index_array, axis=-1)  # same as np.partition(x, kth=1)\n",
      "    array([[2, 3, 4],\n",
      "           [1, 1, 3]])\n",
      "\n"
     ]
    }
   ],
   "source": [
    "help(np.argpartition)"
   ]
  },
  {
   "cell_type": "code",
   "execution_count": 61,
   "id": "2aa011d7-3149-403f-8f11-c7251c179653",
   "metadata": {},
   "outputs": [
    {
     "name": "stdout",
     "output_type": "stream",
     "text": [
      "Help on _ArrayFunctionDispatcher in module numpy:\n",
      "\n",
      "where(...)\n",
      "    where(condition, [x, y], /)\n",
      "    \n",
      "    Return elements chosen from `x` or `y` depending on `condition`.\n",
      "    \n",
      "    .. note::\n",
      "        When only `condition` is provided, this function is a shorthand for\n",
      "        ``np.asarray(condition).nonzero()``. Using `nonzero` directly should be\n",
      "        preferred, as it behaves correctly for subclasses. The rest of this\n",
      "        documentation covers only the case where all three arguments are\n",
      "        provided.\n",
      "    \n",
      "    Parameters\n",
      "    ----------\n",
      "    condition : array_like, bool\n",
      "        Where True, yield `x`, otherwise yield `y`.\n",
      "    x, y : array_like\n",
      "        Values from which to choose. `x`, `y` and `condition` need to be\n",
      "        broadcastable to some shape.\n",
      "    \n",
      "    Returns\n",
      "    -------\n",
      "    out : ndarray\n",
      "        An array with elements from `x` where `condition` is True, and elements\n",
      "        from `y` elsewhere.\n",
      "    \n",
      "    See Also\n",
      "    --------\n",
      "    choose\n",
      "    nonzero : The function that is called when x and y are omitted\n",
      "    \n",
      "    Notes\n",
      "    -----\n",
      "    If all the arrays are 1-D, `where` is equivalent to::\n",
      "    \n",
      "        [xv if c else yv\n",
      "         for c, xv, yv in zip(condition, x, y)]\n",
      "    \n",
      "    Examples\n",
      "    --------\n",
      "    >>> a = np.arange(10)\n",
      "    >>> a\n",
      "    array([0, 1, 2, 3, 4, 5, 6, 7, 8, 9])\n",
      "    >>> np.where(a < 5, a, 10*a)\n",
      "    array([ 0,  1,  2,  3,  4, 50, 60, 70, 80, 90])\n",
      "    \n",
      "    This can be used on multidimensional arrays too:\n",
      "    \n",
      "    >>> np.where([[True, False], [True, True]],\n",
      "    ...          [[1, 2], [3, 4]],\n",
      "    ...          [[9, 8], [7, 6]])\n",
      "    array([[1, 8],\n",
      "           [3, 4]])\n",
      "    \n",
      "    The shapes of x, y, and the condition are broadcast together:\n",
      "    \n",
      "    >>> x, y = np.ogrid[:3, :4]\n",
      "    >>> np.where(x < y, x, 10 + y)  # both x and 10+y are broadcast\n",
      "    array([[10,  0,  0,  0],\n",
      "           [10, 11,  1,  1],\n",
      "           [10, 11, 12,  2]])\n",
      "    \n",
      "    >>> a = np.array([[0, 1, 2],\n",
      "    ...               [0, 2, 4],\n",
      "    ...               [0, 3, 6]])\n",
      "    >>> np.where(a < 4, a, -1)  # -1 is broadcast\n",
      "    array([[ 0,  1,  2],\n",
      "           [ 0,  2, -1],\n",
      "           [ 0,  3, -1]])\n",
      "\n"
     ]
    }
   ],
   "source": [
    "help(np.where)"
   ]
  },
  {
   "cell_type": "code",
   "execution_count": 69,
   "id": "fde0a1dc-7702-400f-a819-0dc124cbbed3",
   "metadata": {},
   "outputs": [
    {
     "data": {
      "text/plain": [
       "array([[12, 13, 14],\n",
       "       [ 0,  1,  2],\n",
       "       [ 3,  4,  5],\n",
       "       [ 9, 10, 11],\n",
       "       [ 6,  7,  8]])"
      ]
     },
     "execution_count": 69,
     "metadata": {},
     "output_type": "execute_result"
    }
   ],
   "source": [
    "m = np.arange(15).reshape(5,3)\n",
    "np.random.shuffle(m)\n",
    "m"
   ]
  },
  {
   "cell_type": "code",
   "execution_count": 74,
   "id": "d9613c21-e8fc-4750-ba79-be67f5c9d811",
   "metadata": {},
   "outputs": [
    {
     "data": {
      "text/plain": [
       "array([[144, 169, 196],\n",
       "       [  0,   1,   2],\n",
       "       [  3,   4,  25],\n",
       "       [ 81, 100, 121],\n",
       "       [ 36,  49,  64]])"
      ]
     },
     "execution_count": 74,
     "metadata": {},
     "output_type": "execute_result"
    }
   ],
   "source": [
    "n = np.where(m>4, m**2, m)\n",
    "n\n",
    "\n",
    "#where (condition, numbers that are in condition, are not in the condition)\n",
    "#if condition, x... else)"
   ]
  },
  {
   "cell_type": "code",
   "execution_count": null,
   "id": "0596aa5e-ee0f-4e99-b4bf-8afe818f7a56",
   "metadata": {},
   "outputs": [],
   "source": []
  }
 ],
 "metadata": {
  "kernelspec": {
   "display_name": "Python 3 (ipykernel)",
   "language": "python",
   "name": "python3"
  },
  "language_info": {
   "codemirror_mode": {
    "name": "ipython",
    "version": 3
   },
   "file_extension": ".py",
   "mimetype": "text/x-python",
   "name": "python",
   "nbconvert_exporter": "python",
   "pygments_lexer": "ipython3",
   "version": "3.11.9"
  }
 },
 "nbformat": 4,
 "nbformat_minor": 5
}
